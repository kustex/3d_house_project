{
 "cells": [
  {
   "cell_type": "code",
   "execution_count": 1,
   "metadata": {},
   "outputs": [],
   "source": [
    "#import rasterio\n",
    "import pandas as pd\n",
    "import numpy as np\n",
    "import matplotlib.pyplot as plt\n",
    "import geopandas as gpd\n",
    "import math \n",
    "import fiona\n",
    "import rasterio\n",
    "import shapely\n",
    "from rasterio.plot import show"
   ]
  },
  {
   "cell_type": "code",
   "execution_count": 30,
   "metadata": {
    "scrolled": false
   },
   "outputs": [
    {
     "data": {
      "text/html": [
       "<div>\n",
       "<style scoped>\n",
       "    .dataframe tbody tr th:only-of-type {\n",
       "        vertical-align: middle;\n",
       "    }\n",
       "\n",
       "    .dataframe tbody tr th {\n",
       "        vertical-align: top;\n",
       "    }\n",
       "\n",
       "    .dataframe thead th {\n",
       "        text-align: right;\n",
       "    }\n",
       "</style>\n",
       "<table border=\"1\" class=\"dataframe\">\n",
       "  <thead>\n",
       "    <tr style=\"text-align: right;\">\n",
       "      <th></th>\n",
       "      <th>index</th>\n",
       "      <th>Date</th>\n",
       "      <th>OpnDatum1</th>\n",
       "      <th>OpnDatum2</th>\n",
       "      <th>geometry</th>\n",
       "    </tr>\n",
       "  </thead>\n",
       "  <tbody>\n",
       "    <tr>\n",
       "      <th>0</th>\n",
       "      <td>0</td>\n",
       "      <td>20140319</td>\n",
       "      <td>2014-03-19</td>\n",
       "      <td>None</td>\n",
       "      <td>POLYGON Z ((86000.000 230206.366 0.000, 85998....</td>\n",
       "    </tr>\n",
       "    <tr>\n",
       "      <th>1</th>\n",
       "      <td>1</td>\n",
       "      <td>20140317</td>\n",
       "      <td>2014-03-19</td>\n",
       "      <td>2014-03-17</td>\n",
       "      <td>POLYGON Z ((86000.000 230206.366 0.000, 86000....</td>\n",
       "    </tr>\n",
       "    <tr>\n",
       "      <th>2</th>\n",
       "      <td>2</td>\n",
       "      <td>20140317</td>\n",
       "      <td>2014-03-17</td>\n",
       "      <td>None</td>\n",
       "      <td>MULTIPOLYGON Z (((97000.000 228000.000 0.000, ...</td>\n",
       "    </tr>\n",
       "    <tr>\n",
       "      <th>3</th>\n",
       "      <td>3</td>\n",
       "      <td>20140317</td>\n",
       "      <td>2014-03-17</td>\n",
       "      <td>2014-03-30</td>\n",
       "      <td>MULTIPOLYGON Z (((95075.940 227675.980 0.000, ...</td>\n",
       "    </tr>\n",
       "    <tr>\n",
       "      <th>4</th>\n",
       "      <td>4</td>\n",
       "      <td>20140330</td>\n",
       "      <td>2014-03-30</td>\n",
       "      <td>None</td>\n",
       "      <td>POLYGON Z ((87000.000 227360.941 0.000, 87000....</td>\n",
       "    </tr>\n",
       "    <tr>\n",
       "      <th>5</th>\n",
       "      <td>5</td>\n",
       "      <td>20140330</td>\n",
       "      <td>2014-03-30</td>\n",
       "      <td>2014-03-31</td>\n",
       "      <td>MULTIPOLYGON Z (((67106.560 224569.260 0.000, ...</td>\n",
       "    </tr>\n",
       "    <tr>\n",
       "      <th>6</th>\n",
       "      <td>6</td>\n",
       "      <td>20140331</td>\n",
       "      <td>2014-03-31</td>\n",
       "      <td>None</td>\n",
       "      <td>POLYGON Z ((98000.000 224213.494 0.000, 98000....</td>\n",
       "    </tr>\n",
       "    <tr>\n",
       "      <th>7</th>\n",
       "      <td>7</td>\n",
       "      <td>20140331</td>\n",
       "      <td>2014-03-31</td>\n",
       "      <td>2014-04-01</td>\n",
       "      <td>MULTIPOLYGON Z (((66364.220 220127.500 0.000, ...</td>\n",
       "    </tr>\n",
       "    <tr>\n",
       "      <th>8</th>\n",
       "      <td>8</td>\n",
       "      <td>20140401</td>\n",
       "      <td>2014-04-01</td>\n",
       "      <td>None</td>\n",
       "      <td>POLYGON Z ((69144.125 219908.699 0.000, 69148....</td>\n",
       "    </tr>\n",
       "    <tr>\n",
       "      <th>9</th>\n",
       "      <td>9</td>\n",
       "      <td>20140401</td>\n",
       "      <td>2014-04-01</td>\n",
       "      <td>2014-04-02</td>\n",
       "      <td>POLYGON Z ((98000.000 219184.145 0.000, 98000....</td>\n",
       "    </tr>\n",
       "    <tr>\n",
       "      <th>10</th>\n",
       "      <td>10</td>\n",
       "      <td>20140402</td>\n",
       "      <td>2014-04-02</td>\n",
       "      <td>None</td>\n",
       "      <td>POLYGON Z ((98000.000 218820.405 0.000, 98000....</td>\n",
       "    </tr>\n",
       "  </tbody>\n",
       "</table>\n",
       "</div>"
      ],
      "text/plain": [
       "    index      Date   OpnDatum1   OpnDatum2  \\\n",
       "0       0  20140319  2014-03-19        None   \n",
       "1       1  20140317  2014-03-19  2014-03-17   \n",
       "2       2  20140317  2014-03-17        None   \n",
       "3       3  20140317  2014-03-17  2014-03-30   \n",
       "4       4  20140330  2014-03-30        None   \n",
       "5       5  20140330  2014-03-30  2014-03-31   \n",
       "6       6  20140331  2014-03-31        None   \n",
       "7       7  20140331  2014-03-31  2014-04-01   \n",
       "8       8  20140401  2014-04-01        None   \n",
       "9       9  20140401  2014-04-01  2014-04-02   \n",
       "10     10  20140402  2014-04-02        None   \n",
       "\n",
       "                                             geometry  \n",
       "0   POLYGON Z ((86000.000 230206.366 0.000, 85998....  \n",
       "1   POLYGON Z ((86000.000 230206.366 0.000, 86000....  \n",
       "2   MULTIPOLYGON Z (((97000.000 228000.000 0.000, ...  \n",
       "3   MULTIPOLYGON Z (((95075.940 227675.980 0.000, ...  \n",
       "4   POLYGON Z ((87000.000 227360.941 0.000, 87000....  \n",
       "5   MULTIPOLYGON Z (((67106.560 224569.260 0.000, ...  \n",
       "6   POLYGON Z ((98000.000 224213.494 0.000, 98000....  \n",
       "7   MULTIPOLYGON Z (((66364.220 220127.500 0.000, ...  \n",
       "8   POLYGON Z ((69144.125 219908.699 0.000, 69148....  \n",
       "9   POLYGON Z ((98000.000 219184.145 0.000, 98000....  \n",
       "10  POLYGON Z ((98000.000 218820.405 0.000, 98000....  "
      ]
     },
     "execution_count": 30,
     "metadata": {},
     "output_type": "execute_result"
    }
   ],
   "source": [
    "dsm_shp = gpd.read_file('data/dsm/DHMVII_vdc_k5.shp').reset_index()\n",
    "dsm_shp = dsm_shp.set_crs('epsg:31370')\n",
    "dsm_shp"
   ]
  },
  {
   "cell_type": "code",
   "execution_count": 36,
   "metadata": {},
   "outputs": [
    {
     "data": {
      "text/html": [
       "<div>\n",
       "<style scoped>\n",
       "    .dataframe tbody tr th:only-of-type {\n",
       "        vertical-align: middle;\n",
       "    }\n",
       "\n",
       "    .dataframe tbody tr th {\n",
       "        vertical-align: top;\n",
       "    }\n",
       "\n",
       "    .dataframe thead th {\n",
       "        text-align: right;\n",
       "    }\n",
       "</style>\n",
       "<table border=\"1\" class=\"dataframe\">\n",
       "  <thead>\n",
       "    <tr style=\"text-align: right;\">\n",
       "      <th></th>\n",
       "      <th>geometry</th>\n",
       "    </tr>\n",
       "    <tr>\n",
       "      <th>index</th>\n",
       "      <th></th>\n",
       "    </tr>\n",
       "  </thead>\n",
       "  <tbody>\n",
       "    <tr>\n",
       "      <th>0</th>\n",
       "      <td>POLYGON Z ((86000.000 230206.366 0.000, 85998....</td>\n",
       "    </tr>\n",
       "    <tr>\n",
       "      <th>1</th>\n",
       "      <td>POLYGON Z ((86000.000 230206.366 0.000, 86000....</td>\n",
       "    </tr>\n",
       "    <tr>\n",
       "      <th>2</th>\n",
       "      <td>MULTIPOLYGON Z (((97000.000 228000.000 0.000, ...</td>\n",
       "    </tr>\n",
       "    <tr>\n",
       "      <th>3</th>\n",
       "      <td>MULTIPOLYGON Z (((95075.940 227675.980 0.000, ...</td>\n",
       "    </tr>\n",
       "    <tr>\n",
       "      <th>4</th>\n",
       "      <td>POLYGON Z ((87000.000 227360.941 0.000, 87000....</td>\n",
       "    </tr>\n",
       "    <tr>\n",
       "      <th>5</th>\n",
       "      <td>MULTIPOLYGON Z (((67106.560 224569.260 0.000, ...</td>\n",
       "    </tr>\n",
       "    <tr>\n",
       "      <th>6</th>\n",
       "      <td>POLYGON Z ((98000.000 224213.494 0.000, 98000....</td>\n",
       "    </tr>\n",
       "    <tr>\n",
       "      <th>7</th>\n",
       "      <td>MULTIPOLYGON Z (((78710.290 220136.130 0.000, ...</td>\n",
       "    </tr>\n",
       "    <tr>\n",
       "      <th>8</th>\n",
       "      <td>POLYGON Z ((69144.125 219908.699 0.000, 69148....</td>\n",
       "    </tr>\n",
       "    <tr>\n",
       "      <th>9</th>\n",
       "      <td>POLYGON Z ((98000.000 219184.145 0.000, 98000....</td>\n",
       "    </tr>\n",
       "    <tr>\n",
       "      <th>10</th>\n",
       "      <td>POLYGON Z ((98000.000 218820.405 0.000, 98000....</td>\n",
       "    </tr>\n",
       "  </tbody>\n",
       "</table>\n",
       "</div>"
      ],
      "text/plain": [
       "                                                geometry\n",
       "index                                                   \n",
       "0      POLYGON Z ((86000.000 230206.366 0.000, 85998....\n",
       "1      POLYGON Z ((86000.000 230206.366 0.000, 86000....\n",
       "2      MULTIPOLYGON Z (((97000.000 228000.000 0.000, ...\n",
       "3      MULTIPOLYGON Z (((95075.940 227675.980 0.000, ...\n",
       "4      POLYGON Z ((87000.000 227360.941 0.000, 87000....\n",
       "5      MULTIPOLYGON Z (((67106.560 224569.260 0.000, ...\n",
       "6      POLYGON Z ((98000.000 224213.494 0.000, 98000....\n",
       "7      MULTIPOLYGON Z (((78710.290 220136.130 0.000, ...\n",
       "8      POLYGON Z ((69144.125 219908.699 0.000, 69148....\n",
       "9      POLYGON Z ((98000.000 219184.145 0.000, 98000....\n",
       "10     POLYGON Z ((98000.000 218820.405 0.000, 98000...."
      ]
     },
     "execution_count": 36,
     "metadata": {},
     "output_type": "execute_result"
    }
   ],
   "source": [
    "dsm_shp_geometry = dsm_shp.geometry.reset_index()\n",
    "dsm_shp_dis = dsm_shp_geometry.dissolve(by='index')\n"
   ]
  },
  {
   "cell_type": "code",
   "execution_count": 13,
   "metadata": {},
   "outputs": [],
   "source": [
    "# bruge coordinates decimal\n",
    "lat_bruge = 51.209348\n",
    "long_bruge = 3.224700"
   ]
  },
  {
   "cell_type": "code",
   "execution_count": 4,
   "metadata": {},
   "outputs": [
    {
     "name": "stdout",
     "output_type": "stream",
     "text": [
      "EPSG:31370\n",
      "1\n"
     ]
    }
   ],
   "source": [
    "raster = rasterio.open('data/geotif/dsm/DHMVIIDSMRAS1m_k05.tif')\n",
    "print(raster.crs)\n",
    "print(raster.count)"
   ]
  },
  {
   "cell_type": "code",
   "execution_count": 5,
   "metadata": {
    "scrolled": false
   },
   "outputs": [
    {
     "data": {
      "text/plain": [
       "<AxesSubplot:>"
      ]
     },
     "execution_count": 5,
     "metadata": {},
     "output_type": "execute_result"
    },
    {
     "data": {
      "image/png": "[encoded data removed]",
      "text/plain": [
       "<Figure size 864x2160 with 1 Axes>"
      ]
     },
     "metadata": {
      "needs_background": "light"
     },
     "output_type": "display_data"
    }
   ],
   "source": [
    "#show point and raster on a matplotlib plot\n",
    "fig,ax = plt.subplots(figsize=(12,30))\n",
    "dsm_shp.plot(ax=ax, color='orangered')\n",
    "show(raster, ax=ax)"
   ]
  },
  {
   "cell_type": "code",
   "execution_count": 6,
   "metadata": {},
   "outputs": [
    {
     "data": {
      "text/html": [
       "<div>\n",
       "<style scoped>\n",
       "    .dataframe tbody tr th:only-of-type {\n",
       "        vertical-align: middle;\n",
       "    }\n",
       "\n",
       "    .dataframe tbody tr th {\n",
       "        vertical-align: top;\n",
       "    }\n",
       "\n",
       "    .dataframe thead th {\n",
       "        text-align: right;\n",
       "    }\n",
       "</style>\n",
       "<table border=\"1\" class=\"dataframe\">\n",
       "  <thead>\n",
       "    <tr style=\"text-align: right;\">\n",
       "      <th></th>\n",
       "      <th>minx</th>\n",
       "      <th>miny</th>\n",
       "      <th>maxx</th>\n",
       "      <th>maxy</th>\n",
       "    </tr>\n",
       "  </thead>\n",
       "  <tbody>\n",
       "    <tr>\n",
       "      <th>0</th>\n",
       "      <td>80000.000033</td>\n",
       "      <td>230179.190125</td>\n",
       "      <td>86000.000033</td>\n",
       "      <td>232000.000025</td>\n",
       "    </tr>\n",
       "    <tr>\n",
       "      <th>1</th>\n",
       "      <td>79500.000033</td>\n",
       "      <td>229787.069925</td>\n",
       "      <td>86000.000033</td>\n",
       "      <td>230240.950025</td>\n",
       "    </tr>\n",
       "    <tr>\n",
       "      <th>2</th>\n",
       "      <td>66000.000033</td>\n",
       "      <td>227529.410025</td>\n",
       "      <td>97000.000033</td>\n",
       "      <td>229939.629925</td>\n",
       "    </tr>\n",
       "    <tr>\n",
       "      <th>3</th>\n",
       "      <td>66000.000033</td>\n",
       "      <td>227318.210125</td>\n",
       "      <td>97000.000033</td>\n",
       "      <td>227706.680025</td>\n",
       "    </tr>\n",
       "    <tr>\n",
       "      <th>4</th>\n",
       "      <td>66000.000033</td>\n",
       "      <td>224309.019925</td>\n",
       "      <td>98000.000033</td>\n",
       "      <td>227405.100125</td>\n",
       "    </tr>\n",
       "  </tbody>\n",
       "</table>\n",
       "</div>"
      ],
      "text/plain": [
       "           minx           miny          maxx           maxy\n",
       "0  80000.000033  230179.190125  86000.000033  232000.000025\n",
       "1  79500.000033  229787.069925  86000.000033  230240.950025\n",
       "2  66000.000033  227529.410025  97000.000033  229939.629925\n",
       "3  66000.000033  227318.210125  97000.000033  227706.680025\n",
       "4  66000.000033  224309.019925  98000.000033  227405.100125"
      ]
     },
     "execution_count": 6,
     "metadata": {},
     "output_type": "execute_result"
    }
   ],
   "source": [
    "dsm_shp.bounds.head()"
   ]
  },
  {
   "cell_type": "code",
   "execution_count": 14,
   "metadata": {},
   "outputs": [
    {
     "data": {
      "text/plain": [
       "False"
      ]
     },
     "execution_count": 14,
     "metadata": {},
     "output_type": "execute_result"
    }
   ],
   "source": [
    "import shapefile\n",
    "from shapely.geometry import shape, Point\n",
    "\n",
    "r = shapefile.Reader('data/dsm/DHMVII_vdc_k5.shp')\n",
    "shapes = r.shapes()\n",
    "polygon = shape(shapes[0])\n",
    "\n",
    "def check(lon, lat):\n",
    "    point = Point(lon,lat)\n",
    "    return polygon.contains(point)\n",
    "\n",
    "check(long_bruge, lat_bruge)"
   ]
  },
  {
   "cell_type": "code",
   "execution_count": null,
   "metadata": {},
   "outputs": [],
   "source": []
  },
  {
   "cell_type": "code",
   "execution_count": null,
   "metadata": {},
   "outputs": [],
   "source": []
  },
  {
   "cell_type": "code",
   "execution_count": null,
   "metadata": {},
   "outputs": [],
   "source": []
  },
  {
   "cell_type": "code",
   "execution_count": null,
   "metadata": {},
   "outputs": [],
   "source": []
  },
  {
   "cell_type": "code",
   "execution_count": null,
   "metadata": {},
   "outputs": [],
   "source": [
    "# Ellipsoid parameters: semi major axis in metres, reciprocal flattening.\n",
    "GRS80 = 6378137, 298.257222100882711\n",
    "WGS84 = 6378137, 298.257223563\n",
    "\n",
    "def geodetic_to_geocentric(ellipsoid, latitude, longitude, height):\n",
    "    \"\"\"Return geocentric (Cartesian) Coordinates x, y, z corresponding to\n",
    "    the geodetic coordinates given by latitude and longitude (in\n",
    "    degrees) and height above ellipsoid. The ellipsoid must be\n",
    "    specified by a pair (semi-major axis, reciprocal flattening).\n",
    "\n",
    "    \"\"\"\n",
    "    φ = radians(latitude)\n",
    "    λ = radians(longitude)\n",
    "    sin_φ = sin(φ)\n",
    "    a, rf = ellipsoid           # semi-major axis, reciprocal flattening\n",
    "    e2 = 1 - (1 - 1 / rf) ** 2  # eccentricity squared\n",
    "    n = a / sqrt(1 - e2 * sin_φ ** 2) # prime vertical radius\n",
    "    r = (n + height) * cos(φ)   # perpendicular distance from z axis\n",
    "    x = r * cos(λ)\n",
    "    y = r * sin(λ)\n",
    "    z = (n * (1 - e2) + height) * sin_φ\n",
    "    return x, y, z"
   ]
  },
  {
   "cell_type": "code",
   "execution_count": null,
   "metadata": {},
   "outputs": [],
   "source": [
    "width = 800\n",
    "height = 600\n",
    "\n",
    "with rasterio.open('data/geotif/dsm/DHMVIIDSMRAS1m_k05.tif') as src:\n",
    "    w = src.read(1, window=Window(0, 0, width, height))\n",
    "    profile = src.profile\n",
    "    profile['width'] = width\n",
    "    profile['height'] = height\n",
    "    # Create output\n",
    "    result = np.full((width, height), dtype=profile['dtype'], fill_value=profile['nodata'])\n",
    "\n",
    "#writting\n",
    "with rasterio.open('/tmp/sampled_image.tif', 'w', **profile) as dataset:\n",
    "    dataset.write_band(1, result)\n",
    "\n",
    "#plotting\n",
    "with rasterio.open('/tmp/sampled_image.tif') as src:\n",
    "    pyplot.imshow(src.read(1), cmap='pink')\n",
    "    pyplot.show()"
   ]
  }
 ],
 "metadata": {
  "kernelspec": {
   "display_name": "Python 3",
   "language": "python",
   "name": "python3"
  },
  "language_info": {
   "codemirror_mode": {
    "name": "ipython",
    "version": 3
   },
   "file_extension": ".py",
   "mimetype": "text/x-python",
   "name": "python",
   "nbconvert_exporter": "python",
   "pygments_lexer": "ipython3",
   "version": "3.8.6"
  }
 },
 "nbformat": 4,
 "nbformat_minor": 4
}
